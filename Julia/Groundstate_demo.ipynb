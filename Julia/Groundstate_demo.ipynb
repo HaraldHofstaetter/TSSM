{
 "cells": [
  {
   "cell_type": "code",
   "execution_count": 1,
   "metadata": {
    "collapsed": false
   },
   "outputs": [
    {
     "name": "stderr",
     "output_type": "stream",
     "text": [
      "WARNING: dlopen is deprecated, use Libdl.dlopen instead.\n"
     ]
    },
    {
     "name": "stdout",
     "output_type": "stream",
     "text": [
      " *** OPENMP n_threads =           4\n"
     ]
    }
   ],
   "source": [
    "push!(LOAD_PATH, pwd());\n",
    "using tssm"
   ]
  },
  {
   "cell_type": "code",
   "execution_count": 2,
   "metadata": {
    "collapsed": false
   },
   "outputs": [
    {
     "data": {
      "text/plain": [
       "tssm.SchroedingerReal1D(Ptr{Void} @0x00000000034434b0)"
      ]
     },
     "execution_count": 2,
     "metadata": {},
     "output_type": "execute_result"
    },
    {
     "name": "stderr",
     "output_type": "stream",
     "text": [
      " in depwarn at deprecated.jl:73\n",
      " in dlopen at deprecated.jl:30\n",
      " in __init__ at /home/hofi/TSSM/Julia/tssm.jl:77\n",
      " in include at ./boot.jl:261\n",
      " in include_from_node1 at ./loading.jl:304\n",
      " in require at ./loading.jl:243\n",
      " in include_string at loading.jl:266\n",
      " in execute_request_0x535c5df2 at /home/hofi/.julia/v0.4/IJulia/src/execute_request.jl:177\n",
      " in eventloop at /home/hofi/.julia/v0.4/IJulia/src/IJulia.jl:141\n",
      " in anonymous at task.jl:447\n",
      "while loading /home/hofi/TSSM/Julia/tssm.jl, in expression starting on line 202\n",
      "WARNING: dlsym is deprecated, use Libdl.dlsym instead.\n",
      " in depwarn at deprecated.jl:73\n",
      " in dlsym at deprecated.jl:30\n",
      " in __init__ at /home/hofi/TSSM/Julia/tssm.jl:79\n",
      " in include at ./boot.jl:261\n",
      " in include_from_node1 at ./loading.jl:304\n",
      " in require at ./loading.jl:243\n",
      " in include_string at loading.jl:266\n",
      " in execute_request_0x535c5df2 at /home/hofi/.julia/v0.4/IJulia/src/execute_request.jl:177\n",
      " in eventloop at /home/hofi/.julia/v0.4/IJulia/src/IJulia.jl:141\n",
      " in anonymous at task.jl:447\n",
      "while loading /home/hofi/TSSM/Julia/tssm.jl, in expression starting on line 202\n",
      "WARNING: using tssm.eval in module Main conflicts with an existing identifier.\n",
      "WARNING: dlsym is deprecated, use Libdl.dlsym instead.\n",
      " in depwarn at deprecated.jl:73\n",
      " in dlsym at deprecated.jl:30\n",
      " in call at /home/hofi/TSSM/Julia/tssm_schroedinger.jl:60\n",
      " in include_string at loading.jl:266\n",
      " in execute_request_0x535c5df2 at /home/hofi/.julia/v0.4/IJulia/src/execute_request.jl:177\n",
      " in eventloop at /home/hofi/.julia/v0.4/IJulia/src/IJulia.jl:141\n",
      " in anonymous at task.jl:447\n",
      "while loading In[2], in expression starting on line 2\n"
     ]
    }
   ],
   "source": [
    "V(x) = x^2\n",
    "m = SchroedingerReal1D(1024, -30, 30, potential=V, cubic_coupling=390)"
   ]
  },
  {
   "cell_type": "code",
   "execution_count": 3,
   "metadata": {
    "collapsed": false
   },
   "outputs": [
    {
     "data": {
      "text/plain": [
       "tssm.WfSchroedingerReal1D(Ptr{Void} @0x000000000386c290,tssm.SchroedingerReal1D(Ptr{Void} @0x00000000034434b0))"
      ]
     },
     "execution_count": 3,
     "metadata": {},
     "output_type": "execute_result"
    }
   ],
   "source": [
    "psi=wave_function(m)"
   ]
  },
  {
   "cell_type": "code",
   "execution_count": 4,
   "metadata": {
    "collapsed": false
   },
   "outputs": [],
   "source": [
    "f(x)=exp(-x^2)\n",
    "set!(psi, f)"
   ]
  },
  {
   "cell_type": "code",
   "execution_count": 5,
   "metadata": {
    "collapsed": false
   },
   "outputs": [
    {
     "data": {
      "text/plain": [
       "groundstate! (generic function with 1 method)"
      ]
     },
     "execution_count": 5,
     "metadata": {},
     "output_type": "execute_result"
    }
   ],
   "source": [
    "include(\"groundstate.jl\")"
   ]
  },
  {
   "cell_type": "code",
   "execution_count": 7,
   "metadata": {
    "collapsed": false
   },
   "outputs": [
    {
     "name": "stdout",
     "output_type": "stream",
     "text": [
      "1.5376724260212793\n",
      "    0   4.112629113735758e+01   7.411670189794734e+01   1.000e+06   5.522e-01   1.040e+01      0.04   2.850224319614512e+01   1.000e+06   3.292e-01\n",
      "changed step size, old:   5.000000000000000e-02  new:   2.500000000000000e-02\n",
      "    1   2.688007443969701e+01   4.313509833989844e+01   1.425e+01   1.212e-01   1.441e-01      0.05\n",
      "    2   2.707612519029219e+01   4.457455820947956e+01  -1.961e-01   2.659e-01   8.340e-02      0.05\n",
      "    3   2.848453155357161e+01   4.747852104389233e+01  -1.408e+00   5.565e-01   8.648e-02      0.06\n",
      "    4   2.869136968454693e+01   4.797070685986316e+01  -2.068e-01   6.238e-01   4.741e-02      0.06\n",
      "    5   2.859879056224277e+01   4.763005242021934e+01   9.258e-02   6.185e-01   3.399e-02      0.07\n",
      "    6   2.817209466007014e+01   4.675742220720477e+01   4.267e-01   5.680e-01   3.161e-02      0.07\n",
      "    7   2.801001690433029e+01   4.651995934489808e+01   1.621e-01   5.374e-01   1.309e-02      0.07\n",
      "    8   2.801623427178703e+01   4.656645272833870e+01  -6.217e-03   5.403e-01   7.468e-03      0.08\n",
      "    9   2.801566453584798e+01   4.659410822989711e+01   5.697e-04   5.403e-01   5.256e-03      0.08\n",
      "   10   2.802307090847467e+01   4.662153744548907e+01  -7.406e-03   5.425e-01   3.889e-03      0.08\n",
      "   11   2.802188235956984e+01   4.663372355583989e+01   1.189e-03   5.423e-01   2.978e-03      0.09\n",
      "   12   2.802572943314456e+01   4.664809195409302e+01  -3.847e-03   5.434e-01   2.335e-03      0.09\n",
      "   13   2.802453934959122e+01   4.665481666802542e+01   1.190e-03   5.433e-01   1.866e-03      0.10\n",
      "   14   2.802715916463990e+01   4.666400410566833e+01  -2.620e-03   5.439e-01   1.509e-03      0.10\n",
      "   15   2.802621784287758e+01   4.666820022475845e+01   9.413e-04   5.438e-01   1.232e-03      0.10\n",
      "   16   2.802810401742352e+01   4.667443275870445e+01  -1.886e-03   5.442e-01   1.013e-03      0.11\n",
      "   17   2.802738962513229e+01   4.667717028372105e+01   7.144e-04   5.442e-01   8.363e-04      0.11\n",
      "   18   2.802875159191854e+01   4.668148236746171e+01  -1.362e-03   5.445e-01   6.948e-04      0.11\n",
      "   19   2.802822147456345e+01   4.668331187716758e+01   5.301e-04   5.444e-01   5.789e-04      0.11\n",
      "0.5733342466141775\n",
      "   20   2.802920010371502e+01   4.668631903525472e+01  -9.786e-04   5.446e-01   4.856e-04      0.12   2.656538502436935e+01   1.463e+00   1.106e-01\n",
      "changed step size, old:   2.500000000000000e-02  new:   1.250000000000000e-02\n",
      "   21   2.648443353077681e+01   4.378268009843447e+01   1.545e+00   3.556e-02   2.126e-02      0.13\n",
      "   22   2.647423363399027e+01   4.384916230859214e+01   1.020e-02   1.542e-02   7.729e-03      0.13\n",
      "   23   2.647174259485399e+01   4.390075786231678e+01   2.491e-03   9.281e-03   3.915e-03      0.13\n",
      "   24   2.647063020680784e+01   4.393671668168707e+01   1.112e-03   6.896e-03   2.654e-03      0.14\n",
      "   25   2.646995524707587e+01   4.396231166691565e+01   6.750e-04   5.599e-03   2.077e-03      0.15\n",
      "   26   2.646949154779430e+01   4.398121377285727e+01   4.637e-04   4.728e-03   1.724e-03      0.15\n",
      "   27   2.646915340261481e+01   4.399567073654601e+01   3.381e-04   4.080e-03   1.473e-03      0.15\n",
      "   28   2.646889798352471e+01   4.400706297662418e+01   2.554e-04   3.570e-03   1.281e-03      0.16\n",
      "   29   2.646870050359367e+01   4.401626287452695e+01   1.975e-04   3.154e-03   1.126e-03      0.16\n",
      "   30   2.646854529298517e+01   4.402384117996948e+01   1.552e-04   2.806e-03   9.987e-04      0.17\n",
      "   31   2.646842182720858e+01   4.403018458718293e+01   1.235e-04   2.509e-03   8.908e-04      0.18\n",
      "   32   2.646832271671128e+01   4.403556386965143e+01   9.911e-05   2.252e-03   7.982e-04      0.18\n",
      "   33   2.646824259575798e+01   4.404017439679943e+01   8.012e-05   2.028e-03   7.177e-04      0.18\n",
      "   34   2.646817746583135e+01   4.404416093959890e+01   6.513e-05   1.831e-03   6.471e-04      0.18\n",
      "   35   2.646812428619033e+01   4.404763331816672e+01   5.318e-05   1.656e-03   5.848e-04      0.19\n",
      "   36   2.646808070699223e+01   4.405067656453934e+01   4.358e-05   1.500e-03   5.294e-04      0.19\n",
      "   37   2.646804488879559e+01   4.405335770762710e+01   3.582e-05   1.361e-03   4.800e-04      0.19\n",
      "   38   2.646801537664084e+01   4.405573042007660e+01   2.951e-05   1.236e-03   4.357e-04      0.19\n",
      "   39   2.646799100987819e+01   4.405783827583632e+01   2.437e-05   1.124e-03   3.960e-04      0.20\n",
      "0.7592952816399611\n",
      "   40   2.646797085614902e+01   4.405971708257281e+01   2.015e-05   1.023e-03   3.601e-04      0.20   2.646798045717257e+01   1.055e-05   1.072e-03\n",
      "   41   2.646795416213800e+01   4.406139658391276e+01   1.669e-05   9.309e-04   3.278e-04      0.20\n",
      "   42   2.646794031624472e+01   4.406290172343279e+01   1.385e-05   8.481e-04   2.985e-04      0.21\n",
      "   43   2.646792881990583e+01   4.406425359804335e+01   1.150e-05   7.730e-04   2.720e-04      0.21\n",
      "   44   2.646791926530754e+01   4.406547018739897e+01   9.555e-06   7.048e-04   2.480e-04      0.21\n",
      "   45   2.646791131789345e+01   4.406656691923907e+01   7.947e-06   6.429e-04   2.262e-04      0.21\n",
      "   46   2.646790470252081e+01   4.406755711279914e+01   6.615e-06   5.867e-04   2.064e-04      0.22\n",
      "   47   2.646789919242476e+01   4.406845233040266e+01   5.510e-06   5.355e-04   1.884e-04      0.22\n",
      "   48   2.646789460036727e+01   4.406926265906574e+01   4.592e-06   4.890e-04   1.720e-04      0.22\n",
      "   49   2.646789077149990e+01   4.406999693815230e+01   3.829e-06   4.465e-04   1.570e-04      0.22\n",
      "   50   2.646788757758293e+01   4.407066294501155e+01   3.194e-06   4.079e-04   1.434e-04      0.23\n",
      "   51   2.646788491228416e+01   4.407126754757121e+01   2.665e-06   3.726e-04   1.310e-04      0.24\n",
      "   52   2.646788268734255e+01   4.407181683071050e+01   2.225e-06   3.405e-04   1.197e-04      0.25\n",
      "   53   2.646788082942879e+01   4.407231620165275e+01   1.858e-06   3.112e-04   1.094e-04      0.26\n",
      "   54   2.646787927756904e+01   4.407277047843546e+01   1.552e-06   2.844e-04   9.999e-05      0.26\n",
      "   55   2.646787798102605e+01   4.407318396463119e+01   1.297e-06   2.600e-04   9.140e-05      0.26\n",
      "   56   2.646787689755389e+01   4.407356051281958e+01   1.083e-06   2.377e-04   8.356e-05      0.27\n",
      "   57   2.646787599195607e+01   4.407390357879118e+01   9.056e-07   2.173e-04   7.639e-05      0.27\n",
      "   58   2.646787523489497e+01   4.407421626807378e+01   7.571e-07   1.987e-04   6.985e-05      0.28\n",
      "   59   2.646787460190495e+01   4.407450137605365e+01   6.330e-07   1.817e-04   6.387e-05      0.28\n",
      "0.7592182052758214\n",
      "   60   2.646787407257521e+01   4.407476142272864e+01   5.293e-07   1.661e-04   5.841e-05      0.29   2.646787432541884e+01   2.765e-07   1.737e-04\n",
      "   61   2.646787362987171e+01   4.407499868293542e+01   4.427e-07   1.519e-04   5.342e-05      0.29\n",
      "   62   2.646787325957347e+01   4.407521521274066e+01   3.703e-07   1.390e-04   4.885e-05      0.29\n",
      "   63   2.646787294980502e+01   4.407541287256828e+01   3.098e-07   1.271e-04   4.468e-05      0.29\n",
      "   64   2.646787269064663e+01   4.407559334753253e+01   2.592e-07   1.163e-04   4.087e-05      0.30\n",
      "   65   2.646787247381029e+01   4.407575816537179e+01   2.168e-07   1.064e-04   3.739e-05      0.30\n",
      "   66   2.646787229237000e+01   4.407590871231211e+01   1.814e-07   9.729e-05   3.420e-05      0.30\n",
      "   67   2.646787214053663e+01   4.407604624713696e+01   1.518e-07   8.900e-05   3.128e-05      0.30\n",
      "   68   2.646787201347055e+01   4.407617191369805e+01   1.271e-07   8.142e-05   2.862e-05      0.31\n",
      "   69   2.646787190712521e+01   4.407628675206564e+01   1.063e-07   7.448e-05   2.618e-05      0.31\n",
      "   70   2.646787181811676e+01   4.407639170848752e+01   8.901e-08   6.814e-05   2.395e-05      0.31\n",
      "   71   2.646787174361518e+01   4.407648764430233e+01   7.450e-08   6.234e-05   2.192e-05      0.31\n",
      "   72   2.646787168125319e+01   4.407657534393046e+01   6.236e-08   5.704e-05   2.005e-05      0.31\n",
      "   73   2.646787162905060e+01   4.407665552205174e+01   5.220e-08   5.219e-05   1.834e-05      0.32\n",
      "   74   2.646787158535067e+01   4.407672883006158e+01   4.370e-08   4.775e-05   1.678e-05      0.32\n",
      "   75   2.646787154876720e+01   4.407679586188686e+01   3.658e-08   4.369e-05   1.536e-05      0.32\n",
      "   76   2.646787151814041e+01   4.407685715923265e+01   3.063e-08   3.997e-05   1.405e-05      0.32\n",
      "   77   2.646787149249954e+01   4.407691321631924e+01   2.564e-08   3.658e-05   1.286e-05      0.33\n",
      "   78   2.646787147103245e+01   4.407696448416723e+01   2.147e-08   3.347e-05   1.176e-05      0.33\n",
      "   79   2.646787145305924e+01   4.407701137447364e+01   1.797e-08   3.062e-05   1.076e-05      0.33\n",
      "0.7592065607277182\n",
      "   80   2.646787143801091e+01   4.407705426312486e+01   1.505e-08   2.802e-05   9.850e-06      0.34   2.646787144520118e+01   7.858e-09   2.929e-05\n",
      "   81   2.646787142541138e+01   4.407709349338166e+01   1.260e-08   2.564e-05   9.013e-06      0.34\n",
      "   82   2.646787141486183e+01   4.407712937876829e+01   1.055e-08   2.346e-05   8.247e-06      0.34\n",
      "   83   2.646787140602855e+01   4.407716220569749e+01   8.833e-09   2.147e-05   7.547e-06      0.37\n",
      "   84   2.646787139863227e+01   4.407719223585521e+01   7.396e-09   1.965e-05   6.905e-06      0.37\n",
      "   85   2.646787139243918e+01   4.407721970836866e+01   6.193e-09   1.798e-05   6.319e-06      0.37\n",
      "   86   2.646787138725340e+01   4.407724484177871e+01   5.186e-09   1.645e-05   5.782e-06      0.38\n",
      "   87   2.646787138291107e+01   4.407726783583584e+01   4.342e-09   1.505e-05   5.291e-06      0.38\n",
      "   88   2.646787137927497e+01   4.407728887313487e+01   3.636e-09   1.377e-05   4.842e-06      0.38\n",
      "   89   2.646787137623018e+01   4.407730812060455e+01   3.045e-09   1.260e-05   4.431e-06      0.38\n",
      "   90   2.646787137368059e+01   4.407732573086538e+01   2.550e-09   1.153e-05   4.054e-06      0.39\n",
      "   91   2.646787137154557e+01   4.407734184346677e+01   2.135e-09   1.056e-05   3.710e-06      0.39\n",
      "   92   2.646787136975774e+01   4.407735658601634e+01   1.788e-09   9.659e-06   3.395e-06      0.39\n",
      "   93   2.646787136826062e+01   4.407737007520944e+01   1.497e-09   8.839e-06   3.107e-06      0.39\n",
      "   94   2.646787136700691e+01   4.407738241776877e+01   1.254e-09   8.088e-06   2.843e-06      0.39\n",
      "   95   2.646787136595705e+01   4.407739371130219e+01   1.050e-09   7.402e-06   2.602e-06      0.40\n",
      "   96   2.646787136507789e+01   4.407740404508559e+01   8.792e-10   6.773e-06   2.381e-06      0.40\n",
      "   97   2.646787136434169e+01   4.407741350077812e+01   7.362e-10   6.198e-06   2.179e-06      0.40\n",
      "   98   2.646787136372514e+01   4.407742215307488e+01   6.165e-10   5.672e-06   1.994e-06      0.40\n",
      "   99   2.646787136320884e+01   4.407743007030372e+01   5.163e-10   5.191e-06   1.824e-06      0.41\n",
      "0.7592046175496989\n",
      "  100   2.646787136277653e+01   4.407743731497020e+01   4.323e-10   4.750e-06   1.670e-06      0.41   2.646787136298307e+01   2.258e-10   4.965e-06\n",
      "  101   2.646787136241444e+01   4.407744394425521e+01   3.621e-10   4.347e-06   1.528e-06      0.41\n",
      "  102   2.646787136211121e+01   4.407745001047061e+01   3.032e-10   3.978e-06   1.398e-06      0.41\n",
      "  103   2.646787136185731e+01   4.407745556147481e+01   2.539e-10   3.640e-06   1.279e-06      0.42\n",
      "  104   2.646787136164467e+01   4.407746064105293e+01   2.126e-10   3.331e-06   1.171e-06      0.42\n",
      "  105   2.646787136146657e+01   4.407746528926457e+01   1.781e-10   3.048e-06   1.071e-06      0.42\n",
      "  106   2.646787136131749e+01   4.407746954276146e+01   1.491e-10   2.790e-06   9.805e-07      0.42\n",
      "  107   2.646787136119256e+01   4.407747343507783e+01   1.249e-10   2.553e-06   8.973e-07      0.43\n",
      "  108   2.646787136108797e+01   4.407747699689650e+01   1.046e-10   2.336e-06   8.211e-07      0.43\n",
      "  109   2.646787136100038e+01   4.407748025629137e+01   8.759e-11   2.138e-06   7.514e-07      0.43\n",
      "  110   2.646787136092702e+01   4.407748323894981e+01   7.336e-11   1.957e-06   6.877e-07      0.43\n",
      "  111   2.646787136086564e+01   4.407748596837581e+01   6.138e-11   1.790e-06   6.293e-07      0.44\n",
      "  112   2.646787136081420e+01   4.407748846607574e+01   5.143e-11   1.639e-06   5.759e-07      0.44\n",
      "  113   2.646787136077110e+01   4.407749075172843e+01   4.311e-11   1.499e-06   5.270e-07      0.44\n",
      "  114   2.646787136073507e+01   4.407749284334080e+01   3.602e-11   1.372e-06   4.823e-07      0.44\n",
      "  115   2.646787136070481e+01   4.407749475738947e+01   3.027e-11   1.256e-06   4.413e-07      0.49\n",
      "  116   2.646787136067950e+01   4.407749650895186e+01   2.531e-11   1.149e-06   4.039e-07      0.49\n",
      "  117   2.646787136065831e+01   4.407749811182424e+01   2.119e-11   1.052e-06   3.696e-07      0.49\n",
      "  118   2.646787136064059e+01   4.407749957863121e+01   1.771e-11   9.624e-07   3.382e-07      0.50\n",
      "  119   2.646787136062574e+01   4.407750092092496e+01   1.486e-11   8.808e-07   3.095e-07      0.50\n",
      "0.7592042887108434\n",
      "  120   2.646787136061330e+01   4.407750214927665e+01   1.244e-11   8.060e-07   2.832e-07      0.50   2.646787136061920e+01   6.541e-12   8.426e-07\n",
      "  121   2.646787136060286e+01   4.407750327335967e+01   1.043e-11   7.376e-07   2.592e-07      0.51\n",
      "  122   2.646787136059410e+01   4.407750430202599e+01   8.761e-12   6.751e-07   2.372e-07      0.51\n",
      "  123   2.646787136058683e+01   4.407750524337596e+01   7.276e-12   6.178e-07   2.171e-07      0.51\n",
      "  124   2.646787136058069e+01   4.407750610482186e+01   6.139e-12   5.654e-07   1.986e-07      0.51\n",
      "  125   2.646787136057557e+01   4.407750689314695e+01   5.116e-12   5.174e-07   1.818e-07      0.52\n",
      "  126   2.646787136057128e+01   4.407750761455825e+01   4.292e-12   4.735e-07   1.664e-07      0.52\n",
      "  127   2.646787136056765e+01   4.407750827473592e+01   3.634e-12   4.334e-07   1.522e-07      0.52\n",
      "  128   2.646787136056467e+01   4.407750887887797e+01   2.974e-12   3.966e-07   1.393e-07      0.52\n",
      "  129   2.646787136056214e+01   4.407750943174089e+01   2.533e-12   3.630e-07   1.275e-07      0.52\n",
      "  130   2.646787136056000e+01   4.407750993767749e+01   2.142e-12   3.322e-07   1.167e-07      0.53\n",
      "  131   2.646787136055828e+01   4.407751040067113e+01   1.720e-12   3.040e-07   1.068e-07      0.53\n",
      "  132   2.646787136055680e+01   4.407751082436680e+01   1.478e-12   2.782e-07   9.771e-08      0.53\n",
      "  133   2.646787136055553e+01   4.407751121210017e+01   1.265e-12   2.546e-07   8.941e-08      0.53\n",
      "  134   2.646787136055449e+01   4.407751156692387e+01   1.044e-12   2.331e-07   8.182e-08      0.54\n",
      "  135   2.646787136055363e+01   4.407751189163122e+01   8.598e-13   2.133e-07   7.488e-08      0.54\n",
      "  136   2.646787136055289e+01   4.407751218877850e+01   7.390e-13   1.952e-07   6.852e-08      0.54\n",
      "  137   2.646787136055227e+01   4.407751246070497e+01   6.182e-13   1.787e-07   6.271e-08      0.54\n",
      "  138   2.646787136055177e+01   4.407751270955141e+01   5.009e-13   1.636e-07   5.739e-08      0.55\n",
      "  139   2.646787136055137e+01   4.407751293727679e+01   3.979e-13   1.497e-07   5.252e-08      0.57\n",
      "0.7592042329388421\n",
      "  140   2.646787136055097e+01   4.407751314567369e+01   4.086e-13   1.370e-07   4.806e-08      0.58   2.646787136055115e+01   2.238e-13   1.432e-07\n",
      "  141   2.646787136055067e+01   4.407751333638286e+01   2.984e-13   1.254e-07   4.398e-08      0.58\n",
      "  142   2.646787136055043e+01   4.407751351090553e+01   2.345e-13   1.148e-07   4.025e-08      0.58\n",
      "  143   2.646787136055021e+01   4.407751367061551e+01   2.203e-13   1.051e-07   3.683e-08      0.58\n",
      "  144   2.646787136055005e+01   4.407751381677011e+01   1.634e-13   9.623e-08   3.370e-08      0.59\n",
      "  145   2.646787136054989e+01   4.407751395051979e+01   1.599e-13   8.810e-08   3.084e-08      0.59\n",
      "  146   2.646787136054975e+01   4.407751407291746e+01   1.386e-13   8.067e-08   2.823e-08      0.59\n",
      "  147   2.646787136054966e+01   4.407751418492671e+01   9.237e-14   7.387e-08   2.583e-08      0.59\n",
      "  148   2.646787136054956e+01   4.407751428742917e+01   9.948e-14   6.764e-08   2.364e-08      0.60\n",
      "  149   2.646787136054952e+01   4.407751438123182e+01   4.263e-14   6.195e-08   2.163e-08      0.60\n",
      "  150   2.646787136054948e+01   4.407751446707302e+01   3.553e-14   5.674e-08   1.980e-08      0.60\n",
      "  151   2.646787136054939e+01   4.407751454562841e+01   8.882e-14   5.198e-08   1.812e-08      0.60\n",
      "  152   2.646787136054935e+01   4.407751461751648e+01   4.619e-14   4.763e-08   1.658e-08      0.60\n",
      "  153   2.646787136054932e+01   4.407751468330313e+01   2.842e-14   4.364e-08   1.517e-08      0.61\n",
      "  154   2.646787136054927e+01   4.407751474350614e+01   4.974e-14   4.000e-08   1.388e-08      0.61\n",
      "  155   2.646787136054927e+01   4.407751479859952e+01   0.000e+00   3.668e-08   1.271e-08      0.61\n",
      "  156   2.646787136054925e+01   4.407751484901688e+01   1.421e-14   3.364e-08   1.163e-08      0.61\n",
      "  157   2.646787136054925e+01   4.407751489515512e+01   0.000e+00   3.086e-08   1.064e-08      0.62\n",
      "  158   2.646787136054921e+01   4.407751493737736e+01   3.908e-14   2.832e-08   9.737e-09      0.62\n",
      "  159   2.646787136054921e+01   4.407751497601606e+01   0.000e+00   2.600e-08   8.911e-09      0.62\n",
      "0.7592042234763406\n",
      "  160   2.646787136054919e+01   4.407751501137531e+01   2.487e-14   2.389e-08   8.154e-09      0.62   2.646787136054915e+01   6.750e-14   2.474e-08\n",
      "  161   2.646787136054918e+01   4.407751504373350e+01   1.421e-14   2.196e-08   7.462e-09      0.63\n",
      "  162   2.646787136054919e+01   4.407751507334533e+01  -1.066e-14   2.021e-08   6.829e-09      0.63\n",
      "  163   2.646787136054918e+01   4.407751510044388e+01   7.105e-15   1.861e-08   6.249e-09      0.63\n",
      "  164   2.646787136054913e+01   4.407751512524239e+01   5.329e-14   1.715e-08   5.719e-09      0.63\n",
      "  165   2.646787136054913e+01   4.407751514793623e+01   0.000e+00   1.582e-08   5.233e-09      0.64\n",
      "  166   2.646787136054916e+01   4.407751516870398e+01  -3.197e-14   1.462e-08   4.789e-09      0.64\n",
      "  167   2.646787136054917e+01   4.407751518770907e+01  -1.066e-14   1.353e-08   4.383e-09      0.64\n",
      "  168   2.646787136054917e+01   4.407751520510114e+01   0.000e+00   1.254e-08   4.011e-09      0.64\n",
      "  169   2.646787136054915e+01   4.407751522101702e+01   1.421e-14   1.165e-08   3.670e-09      0.65\n",
      "  170   2.646787136054914e+01   4.407751523558204e+01   1.421e-14   1.084e-08   3.359e-09      0.65\n",
      "  171   2.646787136054913e+01   4.407751524891093e+01   1.421e-14   1.012e-08   3.074e-09      0.68\n",
      "  172   2.646787136054910e+01   4.407751526110849e+01   2.487e-14   9.463e-09   2.813e-09      0.68\n"
     ]
    }
   ],
   "source": [
    "groundstate!(psi, extrapolation_order=2)"
   ]
  },
  {
   "cell_type": "code",
   "execution_count": 8,
   "metadata": {
    "collapsed": false
   },
   "outputs": [],
   "source": [
    "using PyPlot"
   ]
  },
  {
   "cell_type": "code",
   "execution_count": 9,
   "metadata": {
    "collapsed": false
   },
   "outputs": [
    {
     "data": {
      "image/png": "[encoded data removed]",
      "text/plain": [
       "PyPlot.Figure(PyObject <matplotlib.figure.Figure object at 0x7f978c80f550>)"
      ]
     },
     "metadata": {},
     "output_type": "display_data"
    },
    {
     "data": {
      "text/plain": [
       "1-element Array{Any,1}:\n",
       " PyObject <matplotlib.lines.Line2D object at 0x7f978c765410>"
      ]
     },
     "execution_count": 9,
     "metadata": {},
     "output_type": "execute_result"
    }
   ],
   "source": [
    "x=get_nodes(m);\n",
    "u=get_data(psi,true)\n",
    "to_real_space!(psi)\n",
    "plot(x, u[1:end-2].^2)"
   ]
  },
  {
   "cell_type": "code",
   "execution_count": null,
   "metadata": {
    "collapsed": false
   },
   "outputs": [],
   "source": [
    "include(\"time_stepper.jl\")"
   ]
  },
  {
   "cell_type": "code",
   "execution_count": null,
   "metadata": {
    "collapsed": false
   },
   "outputs": [],
   "source": [
    "plot(x, u[1:end-2].^2)"
   ]
  },
  {
   "cell_type": "code",
   "execution_count": null,
   "metadata": {
    "collapsed": true
   },
   "outputs": [],
   "source": []
  },
  {
   "cell_type": "code",
   "execution_count": null,
   "metadata": {
    "collapsed": true
   },
   "outputs": [],
   "source": []
  },
  {
   "cell_type": "code",
   "execution_count": null,
   "metadata": {
    "collapsed": false
   },
   "outputs": [],
   "source": [
    "using Base.dlext"
   ]
  },
  {
   "cell_type": "code",
   "execution_count": null,
   "metadata": {
    "collapsed": false
   },
   "outputs": [],
   "source": [
    "1+1"
   ]
  },
  {
   "cell_type": "code",
   "execution_count": null,
   "metadata": {
    "collapsed": true
   },
   "outputs": [],
   "source": []
  },
  {
   "cell_type": "code",
   "execution_count": null,
   "metadata": {
    "collapsed": true
   },
   "outputs": [],
   "source": []
  }
 ],
 "metadata": {
  "kernelspec": {
   "display_name": "Julia 0.4.1",
   "language": "julia",
   "name": "julia-0.4"
  },
  "language_info": {
   "file_extension": ".jl",
   "mimetype": "application/julia",
   "name": "julia",
   "version": "0.4.2"
  }
 },
 "nbformat": 4,
 "nbformat_minor": 0
}
